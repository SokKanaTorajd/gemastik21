{
  "nbformat": 4,
  "nbformat_minor": 0,
  "metadata": {
    "colab": {
      "name": "Gemastik-Final.ipynb",
      "provenance": [],
      "mount_file_id": "15ZI3401zQ0lEnw8RK1-NAUnlYNI45uhq",
      "authorship_tag": "ABX9TyP6uIBdTKHDwlP5syGpXui2",
      "include_colab_link": true
    },
    "kernelspec": {
      "name": "python3",
      "display_name": "Python 3"
    },
    "language_info": {
      "name": "python"
    }
  },
  "cells": [
    {
      "cell_type": "markdown",
      "metadata": {
        "id": "view-in-github",
        "colab_type": "text"
      },
      "source": [
        "<a href=\"https://colab.research.google.com/github/SokKanaTorajd/gemastik21/blob/main/Gemastik_Final.ipynb\" target=\"_parent\"><img src=\"https://colab.research.google.com/assets/colab-badge.svg\" alt=\"Open In Colab\"/></a>"
      ]
    },
    {
      "cell_type": "code",
      "metadata": {
        "id": "SH3MH61O_1io"
      },
      "source": [
        "import pandas as pd"
      ],
      "execution_count": 1,
      "outputs": []
    },
    {
      "cell_type": "code",
      "metadata": {
        "id": "nw_kwY3X_5Jq"
      },
      "source": [
        "train_ds = '/content/drive/MyDrive/Gemastik21/final-dataset/soal-TRAINING-VALIDATION-Gemastik2021/train_preprocess.csv'\n",
        "valid_ds = '/content/drive/MyDrive/Gemastik21/final-dataset/soal-TRAINING-VALIDATION-Gemastik2021/valid_preprocess.csv'"
      ],
      "execution_count": 2,
      "outputs": []
    },
    {
      "cell_type": "code",
      "metadata": {
        "id": "tRQfkuWLAL9Q"
      },
      "source": [
        ""
      ],
      "execution_count": null,
      "outputs": []
    }
  ]
}